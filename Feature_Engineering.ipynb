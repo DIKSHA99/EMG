{
  "nbformat": 4,
  "nbformat_minor": 0,
  "metadata": {
    "colab": {
      "name": "Feature Engineering.ipynb",
      "provenance": []
    },
    "kernelspec": {
      "name": "python3",
      "display_name": "Python 3"
    },
    "language_info": {
      "name": "python"
    }
  },
  "cells": [
    {
      "cell_type": "markdown",
      "source": [
        "Cleaning"
      ],
      "metadata": {
        "id": "ZTkwY0P9-Aaw"
      }
    },
    {
      "cell_type": "code",
      "execution_count": 2,
      "metadata": {
        "id": "ADqeALQG9bky"
      },
      "outputs": [],
      "source": [
        "import pandas as pd\n",
        "import numpy as np\n",
        "import matplotlib.pyplot as plt\n",
        "\n",
        "class Clean_missing(object):\n",
        "\n",
        "  def __init__(self,signal_filtered,df):\n",
        "    self.signal_filtered=signal_filtered\n",
        "    self.df=df\n",
        "  \n",
        "  signal_filtered = pd.read_excel('y.xlsx')\n",
        "  df=pd.DataFrame(signal_filtered)\n",
        "\n",
        "  def processing(self):\n",
        "    #fillmissing\n",
        "    df1=self.df.fillna(self.df.mean());\n",
        "    #converts infs to nans\n",
        "    df1=df1.replace([np.inf, -np.inf], np.nan, inplace=False);\n",
        "    #remove nans\n",
        "    df1 = df1.dropna(inplace=False)\n",
        "    #reshaping and windowing at 100ms\n",
        "    df2=np.array(df1)\n",
        "    a1=df2[0:3900]\n",
        "    a2=np.reshape(a1, (-1,100), order='F') \n",
        "    a2=pd.DataFrame(a2)\n",
        "\n",
        "    #writing in excel\n",
        "    a2.to_excel('processed.xlsx', index = False)\n",
        "    return True\n"
      ]
    },
    {
      "cell_type": "code",
      "source": [
        "pro=Clean_missing(Clean_missing.signal_filtered,Clean_missing.df)\n",
        "pro.processing()"
      ],
      "metadata": {
        "colab": {
          "base_uri": "https://localhost:8080/"
        },
        "id": "8W4oHlKx9wO5",
        "outputId": "2c94d351-fd49-4580-c0c0-4365c3265d1a"
      },
      "execution_count": 3,
      "outputs": [
        {
          "output_type": "execute_result",
          "data": {
            "text/plain": [
              "True"
            ]
          },
          "metadata": {},
          "execution_count": 3
        }
      ]
    },
    {
      "cell_type": "markdown",
      "source": [
        "Feature Engineering"
      ],
      "metadata": {
        "id": "Y7qYHaPG99TF"
      }
    },
    {
      "cell_type": "markdown",
      "source": [
        "Using Mean and Standard Deviation"
      ],
      "metadata": {
        "id": "HNGFPp8h-bY9"
      }
    },
    {
      "cell_type": "code",
      "source": [
        "import pandas as pd\n",
        "import numpy as np\n",
        "import matplotlib.pyplot as plt\n",
        "\n",
        "\n",
        "class Feature_eng(object): \n",
        "  def __init__(self,processed,df):\n",
        "    self.signal_filtered=processed\n",
        "    self.df=df\n",
        "  \n",
        "  processed = pd.read_excel('processed.xlsx')\n",
        "  df=pd.DataFrame(processed)\n",
        "\n",
        "\n",
        "  def processing(self):\n",
        "  #feature extraction\n",
        "    a3=pd.DataFrame(self.df)\n",
        "    a4=np.round(a3.mean(axis=1),2)\n",
        "    a5=np.round(a3.std(axis=1),2)\n",
        "\n",
        "    #writing in excel\n",
        "    final = list(zip(a4,a5))\n",
        "    final1 = pd.DataFrame(final, columns = ['Mean','Standard Deviation'])\n",
        "    final1.to_excel('features.xlsx', index = False)\n",
        "\n",
        "    return True\n",
        " "
      ],
      "metadata": {
        "id": "ptnmtTaQ-Erc"
      },
      "execution_count": 4,
      "outputs": []
    },
    {
      "cell_type": "code",
      "source": [
        "features=Feature_eng(Feature_eng.processed,Feature_eng.df)\n",
        "features.processing()"
      ],
      "metadata": {
        "colab": {
          "base_uri": "https://localhost:8080/"
        },
        "id": "bdBL0y3J-LEI",
        "outputId": "ae9b0687-3776-4924-f413-cd436c964f78"
      },
      "execution_count": 5,
      "outputs": [
        {
          "output_type": "execute_result",
          "data": {
            "text/plain": [
              "True"
            ]
          },
          "metadata": {},
          "execution_count": 5
        }
      ]
    }
  ]
}